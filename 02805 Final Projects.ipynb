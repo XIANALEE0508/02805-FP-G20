{
 "cells": [
  {
   "cell_type": "code",
   "execution_count": 1,
   "id": "8f4ae66c-9d06-48ac-bcb5-3cce9bfabe42",
   "metadata": {},
   "outputs": [],
   "source": [
    "#逻辑，用routes的航线中的机场代码，匹配机场airports.dat中的数据- 这个数据中第五列是IATA代码，第三列是城市的名称，可以相对应，然后建立有向网络\n",
    "#后期如果不需要可以换成无向网络，然后边就是航线，边的属性就是（航空公司，起点和重点的IATA代码，距离，中转次数）\n",
    "#另外需要各个城市的地理坐标（后续用来绘制航线图）\n",
    "#然后合并边，看看是不是属于一个城市的，（比如我知道的有的城市有2个机场，例如上海），这种情况下合并为一个节点，但是边不合并，各自连接到新的节点上\n",
    "#至于如何区分，可以通过边的属性区分"
   ]
  },
  {
   "cell_type": "code",
   "execution_count": 2,
   "id": "8ba553dc-6aa0-458f-96a9-b6631a5dff71",
   "metadata": {},
   "outputs": [],
   "source": [
    "# #wiki百科爬机场数据代码（到时候直接变成markdown代码的形式）\n",
    "# import requests\n",
    "# from bs4 import BeautifulSoup\n",
    "# import pandas as pd\n",
    "\n",
    "# # 目标URL\n",
    "# url = \"https://en.wikipedia.org/wiki/List_of_international_airports_by_country\"\n",
    "\n",
    "# # 请求网页内容\n",
    "# response = requests.get(url)\n",
    "# soup = BeautifulSoup(response.content, \"html.parser\")\n",
    "\n",
    "# # 初始化列表用于存储数据\n",
    "# data = {\n",
    "#     \"Country\": [],\n",
    "#     \"Airport\": [],\n",
    "#     \"IATA Code\": []\n",
    "# }\n",
    "\n",
    "# # 遍历每个国家的机场信息表格\n",
    "# for table in soup.find_all(\"table\", {\"class\": \"wikitable\"}):\n",
    "#     country = None  # 初始化国家名\n",
    "#     for row in table.find_all(\"tr\")[1:]:  # 跳过表头行\n",
    "#         cells = row.find_all(\"td\")\n",
    "        \n",
    "#         # 判断是否为国家行（通常包含 3 列）\n",
    "#         if len(cells) == 3:\n",
    "#             country = cells[0].text.strip()\n",
    "#             airport = cells[1].text.strip()\n",
    "#             iata_code = cells[2].text.strip()\n",
    "#         elif len(cells) == 2:  # 如果只有两列，使用前面的国家名\n",
    "#             airport = cells[0].text.strip()\n",
    "#             iata_code = cells[1].text.strip()\n",
    "        \n",
    "#         # 添加数据到列表\n",
    "#         if country and airport and iata_code:\n",
    "#             data[\"Country\"].append(country)\n",
    "#             data[\"Airport\"].append(airport)\n",
    "#             data[\"IATA Code\"].append(iata_code)\n",
    "\n",
    "# # 转换为DataFrame\n",
    "# df = pd.DataFrame(data)\n",
    "\n",
    "# # 显示或保存数据\n",
    "# print(df)\n",
    "# # df.to_csv(\"international_airports.csv\", index=False) # 保存为CSV文件"
   ]
  },
  {
   "cell_type": "code",
   "execution_count": 3,
   "id": "75bd3246-6432-4b8f-acd8-89fa71101caa",
   "metadata": {},
   "outputs": [],
   "source": [
    "# #得到航线代码的文件的代码，同理markdown代码的形式\n",
    "# import requests\n",
    "\n",
    "# # URL of the routes.dat file\n",
    "# url = \"https://raw.githubusercontent.com/jpatokal/openflights/master/data/airports.dat\"\n",
    "\n",
    "# # 目标文件路径\n",
    "# file_path = \"airports.dat\"\n",
    "\n",
    "# try:\n",
    "#     # 发送GET请求\n",
    "#     response = requests.get(url)\n",
    "#     response.raise_for_status()  # 检查请求是否成功\n",
    "\n",
    "#     # 将内容写入文件\n",
    "#     with open(file_path, \"wb\") as file:\n",
    "#         file.write(response.content)\n",
    "#     print(f\"文件已成功下载并保存为 {file_path}\")\n",
    "\n",
    "# except requests.exceptions.RequestException as e:\n",
    "#     print(f\"下载文件时出错: {e}\")"
   ]
  },
  {
   "cell_type": "code",
   "execution_count": 4,
   "id": "bc77b425-b651-4a00-ac87-99dac761e603",
   "metadata": {},
   "outputs": [],
   "source": [
    "#第一步，处理数据，用IATA链接城市，新城新的完整的文件"
   ]
  },
  {
   "cell_type": "code",
   "execution_count": 5,
   "id": "72c9b13c-2f28-44d9-be5f-eaa546f3b5ee",
   "metadata": {},
   "outputs": [],
   "source": [
    "import pandas as pd"
   ]
  },
  {
   "cell_type": "code",
   "execution_count": 6,
   "id": "8126a8f9-b2d1-4be5-9430-0f3a05fc7f73",
   "metadata": {},
   "outputs": [],
   "source": [
    "# 读取 airports.dat 文件\n",
    "airports_df = pd.read_csv(\"airports.dat\", header=None, encoding=\"utf-8\", names=[\n",
    "    \"ID\", \"Name\", \"City\", \"Country\", \"IATA\", \"ICAO\", \"Latitude\", \"Longitude\",\n",
    "    \"Altitude\", \"Timezone\", \"DST\", \"TzDatabase\", \"Type\", \"Source\"\n",
    "])"
   ]
  },
  {
   "cell_type": "code",
   "execution_count": 7,
   "id": "d6bfb193-71c2-4a13-b7d7-35de279f36ea",
   "metadata": {},
   "outputs": [],
   "source": [
    "# 读取 routes.dat 文件\n",
    "routes_df = pd.read_csv(\"routes.dat\", header=None, encoding=\"utf-8\", names=[\n",
    "    \"Airline\", \"AirlineID\", \"SourceIATA\", \"SourceAirportID\", \"DestinationIATA\",\n",
    "    \"DestinationAirportID\", \"Codeshare\", \"Stops\", \"Equipment\"\n",
    "])"
   ]
  },
  {
   "cell_type": "code",
   "execution_count": 8,
   "id": "31a4d9ca-8807-44c8-891d-43de0f1d23cb",
   "metadata": {},
   "outputs": [
    {
     "name": "stdout",
     "output_type": "stream",
     "text": [
      "routes_with_cities.csv completed\n"
     ]
    }
   ],
   "source": [
    "# 创建 IATA 到城市名称的映射\n",
    "iata_to_city = dict(zip(airports_df[\"IATA\"], airports_df[\"City\"]))\n",
    "\n",
    "# 添加起点城市列\n",
    "routes_df[\"SourceCity\"] = routes_df[\"SourceIATA\"].map(iata_to_city)\n",
    "\n",
    "# 添加终点城市列\n",
    "routes_df[\"DestinationCity\"] = routes_df[\"DestinationIATA\"].map(iata_to_city)\n",
    "\n",
    "# 保存到新的 CSV 文件\n",
    "routes_df.to_csv(\"routes_with_cities.csv\", index=False, encoding=\"utf-8\")\n",
    "\n",
    "print(\"routes_with_cities.csv completed\")"
   ]
  },
  {
   "cell_type": "code",
   "execution_count": 9,
   "id": "3e296464-7cb9-4b74-bceb-47ec1f519505",
   "metadata": {},
   "outputs": [],
   "source": [
    "#更新城市经纬度坐标在这个routes_with_cities.csv文件中"
   ]
  },
  {
   "cell_type": "code",
   "execution_count": 10,
   "id": "7f064fb9-7a14-4552-9b4e-746fbcaecb58",
   "metadata": {},
   "outputs": [],
   "source": [
    "iata_to_coords = dict(zip(airports_df[\"IATA\"], zip(airports_df[\"Latitude\"], airports_df[\"Longitude\"])))"
   ]
  },
  {
   "cell_type": "code",
   "execution_count": 11,
   "id": "95f11c18-aaf5-4284-9645-842a6a847dfd",
   "metadata": {},
   "outputs": [],
   "source": [
    "routes_df[\"SourceLatitude\"] = routes_df[\"SourceIATA\"].map(lambda x: iata_to_coords.get(x, (None, None))[0])\n",
    "routes_df[\"SourceLongitude\"] = routes_df[\"SourceIATA\"].map(lambda x: iata_to_coords.get(x, (None, None))[1])\n"
   ]
  },
  {
   "cell_type": "code",
   "execution_count": 12,
   "id": "dd0a6adf-f49a-4e7a-8e66-aa23e92dc6ab",
   "metadata": {},
   "outputs": [],
   "source": [
    "routes_df[\"DestinationLatitude\"] = routes_df[\"DestinationIATA\"].map(lambda x: iata_to_coords.get(x, (None, None))[0])\n",
    "routes_df[\"DestinationLongitude\"] = routes_df[\"DestinationIATA\"].map(lambda x: iata_to_coords.get(x, (None, None))[1])\n"
   ]
  },
  {
   "cell_type": "code",
   "execution_count": 13,
   "id": "91745358-d0e5-47f7-ab7f-e6eee4942fef",
   "metadata": {},
   "outputs": [
    {
     "name": "stdout",
     "output_type": "stream",
     "text": [
      "routes_with_cities_and_coords.csv completed\n"
     ]
    }
   ],
   "source": [
    "# 保存到新的 CSV 文件\n",
    "routes_df.to_csv(\"routes_with_cities_and_coords.csv\", index=False, encoding=\"utf-8\")\n",
    "\n",
    "print(\"routes_with_cities_and_coords.csv completed\")\n"
   ]
  },
  {
   "cell_type": "code",
   "execution_count": 14,
   "id": "27c7d02f-f3a1-4ac7-ae62-41abd6a13de6",
   "metadata": {},
   "outputs": [],
   "source": [
    "#下面的代码是开始构建网络了"
   ]
  },
  {
   "cell_type": "code",
   "execution_count": 15,
   "id": "3c2e9aa4-7765-4075-9c5d-4afd46284f56",
   "metadata": {},
   "outputs": [
    {
     "name": "stdout",
     "output_type": "stream",
     "text": [
      "Requirement already satisfied: geopy in c:\\users\\user\\appdata\\local\\programs\\python\\python311\\lib\\site-packages (2.4.1)\n",
      "Requirement already satisfied: geographiclib<3,>=1.52 in c:\\users\\user\\appdata\\local\\programs\\python\\python311\\lib\\site-packages (from geopy) (2.0)\n",
      "Note: you may need to restart the kernel to use updated packages.\n"
     ]
    },
    {
     "name": "stderr",
     "output_type": "stream",
     "text": [
      "\n",
      "[notice] A new release of pip is available: 24.2 -> 24.3.1\n",
      "[notice] To update, run: python.exe -m pip install --upgrade pip\n"
     ]
    }
   ],
   "source": [
    "pip install geopy"
   ]
  },
  {
   "cell_type": "code",
   "execution_count": 16,
   "id": "7f674edf-19d9-495b-9804-e926e5cd6dd2",
   "metadata": {},
   "outputs": [],
   "source": [
    "import networkx as nx\n",
    "from geopy.distance import geodesic"
   ]
  },
  {
   "cell_type": "code",
   "execution_count": 17,
   "id": "922cd2db-555c-4fc0-ba95-a6591c3cc2db",
   "metadata": {},
   "outputs": [],
   "source": [
    "routes_df = pd.read_csv(\"routes_with_cities_and_coords.csv\", encoding=\"utf-8\")"
   ]
  },
  {
   "cell_type": "code",
   "execution_count": 18,
   "id": "12055fa3-7860-4a6f-a166-84b3e0742d56",
   "metadata": {},
   "outputs": [],
   "source": [
    "G = nx.MultiDiGraph()#允许两点之间存在多条边，因为边的属性不一样"
   ]
  },
  {
   "cell_type": "code",
   "execution_count": 19,
   "id": "68597546-125f-4a80-bace-594a9f66aaeb",
   "metadata": {},
   "outputs": [],
   "source": [
    "missing_city_count = 0  # 缺失城市行数\n",
    "missing_coords_count = 0  # 缺失坐标行数\n",
    "total_rows = len(routes_df)  # 总航线行数"
   ]
  },
  {
   "cell_type": "code",
   "execution_count": 20,
   "id": "640c5c23-08cd-4c87-9aaa-a60604ecce20",
   "metadata": {},
   "outputs": [],
   "source": [
    "# 遍历数据集，逐行添加边\n",
    "for _, row in routes_df.iterrows():\n",
    "    source_city = row[\"SourceCity\"]\n",
    "    destination_city = row[\"DestinationCity\"]\n",
    "\n",
    "    # 跳过无效的行（缺少城市）\n",
    "    if pd.isna(source_city) or pd.isna(destination_city):\n",
    "        missing_city_count += 1\n",
    "        continue\n",
    "\n",
    "    # 边的属性（用 None 替代缺失值）\n",
    "    airline = row.get(\"Airline\", None)\n",
    "    source_iata = row.get(\"SourceIATA\", None)\n",
    "    destination_iata = row.get(\"DestinationIATA\", None)\n",
    "    stops = row.get(\"Stops\", None)\n",
    "    equipment = row.get(\"Equipment\", None)\n",
    "\n",
    "    # 计算距离（处理缺失经纬度的情况）\n",
    "    try:\n",
    "        source_coords = (row[\"SourceLatitude\"], row[\"SourceLongitude\"])\n",
    "        destination_coords = (row[\"DestinationLatitude\"], row[\"DestinationLongitude\"])\n",
    "        distance = geodesic(source_coords, destination_coords).kilometers\n",
    "    except (ValueError, TypeError):\n",
    "        distance = None\n",
    "\n",
    "    # 添加边到图中，每行数据对应一条边\n",
    "    G.add_edge(\n",
    "        source_city,\n",
    "        destination_city,\n",
    "        key=(airline, source_iata, destination_iata),  # 唯一标识符\n",
    "        airline=airline,\n",
    "        source_iata=source_iata,\n",
    "        destination_iata=destination_iata,\n",
    "        distance=distance,\n",
    "        stops=stops,\n",
    "        equipment=equipment\n",
    "    )\n"
   ]
  },
  {
   "cell_type": "code",
   "execution_count": 21,
   "id": "923d7f64-d1b6-4add-be02-e7cd76ed4a3c",
   "metadata": {},
   "outputs": [
    {
     "name": "stdout",
     "output_type": "stream",
     "text": [
      "total airline: 67663\n",
      "missing cities rows: 733\n",
      "missing coords rows: 0\n",
      "nodes: 3135\n",
      "edges: 66930\n"
     ]
    }
   ],
   "source": [
    "# 打印过滤统计信息（中文）\n",
    "print(f\"total airline: {total_rows}\")\n",
    "print(f\"missing cities rows: {missing_city_count}\")\n",
    "print(f\"missing coords rows: {missing_coords_count}\")\n",
    "\n",
    "# 打印网络的基本信息（中文）\n",
    "print(f\"nodes: {G.number_of_nodes()}\")\n",
    "print(f\"edges: {G.number_of_edges()}\")\n"
   ]
  },
  {
   "cell_type": "code",
   "execution_count": 22,
   "id": "a7048724-da82-4b3c-94c6-84877398987a",
   "metadata": {},
   "outputs": [],
   "source": [
    "#below 是 degree distribution分析"
   ]
  },
  {
   "cell_type": "code",
   "execution_count": 23,
   "id": "84c9aaa0-c38f-406b-bbb7-efe04f199d84",
   "metadata": {},
   "outputs": [
    {
     "name": "stdout",
     "output_type": "stream",
     "text": [
      "nodes: 3135\n",
      "edges: 66930\n",
      "average in-degree: 21.35\n",
      "average out-degree: 21.35\n",
      "max in-degree: 1224\n",
      "max out-degree: 1232\n"
     ]
    },
    {
     "data": {
      "image/png": "[encoded data removed]",
      "text/plain": [
       "<Figure size 1000x600 with 1 Axes>"
      ]
     },
     "metadata": {},
     "output_type": "display_data"
    },
    {
     "data": {
      "image/png": "[encoded data removed]",
      "text/plain": [
       "<Figure size 1000x600 with 1 Axes>"
      ]
     },
     "metadata": {},
     "output_type": "display_data"
    }
   ],
   "source": [
    "import matplotlib.pyplot as plt\n",
    "\n",
    "# 计算入度和出度\n",
    "in_degrees = [deg for _, deg in G.in_degree()]  # 节点的入度列表\n",
    "out_degrees = [deg for _, deg in G.out_degree()]  # 节点的出度列表\n",
    "\n",
    "# 打印关键统计信息\n",
    "print(f\"nodes: {G.number_of_nodes()}\")  # 网络中的节点数量\n",
    "print(f\"edges: {G.number_of_edges()}\")  # 网络中的边数量\n",
    "print(f\"average in-degree: {sum(in_degrees) / len(in_degrees):.2f}\")  # 平均入度\n",
    "print(f\"average out-degree: {sum(out_degrees) / len(out_degrees):.2f}\")  # 平均出度\n",
    "print(f\"max in-degree: {max(in_degrees)}\")  # 最大入度\n",
    "print(f\"max out-degree: {max(out_degrees)}\")  # 最大出度\n",
    "\n",
    "# 绘制入度分布图\n",
    "plt.figure(figsize=(10, 6))\n",
    "plt.hist(in_degrees, bins=50, color=\"skyblue\", edgecolor=\"black\", alpha=0.7)  # 入度分布\n",
    "plt.title(\"In-Degree Distribution\", fontsize=16)  # 标题\n",
    "plt.xlabel(\"In-Degree\", fontsize=14)  # x轴标签\n",
    "plt.ylabel(\"Frequency\", fontsize=14)  # y轴标签\n",
    "plt.grid(axis=\"y\", linestyle=\"--\", alpha=0.7)  # 网格线\n",
    "plt.show()\n",
    "\n",
    "# 绘制出度分布图\n",
    "plt.figure(figsize=(10, 6))\n",
    "plt.hist(out_degrees, bins=50, color=\"lightgreen\", edgecolor=\"black\", alpha=0.7)  # 出度分布\n",
    "plt.title(\"Out-Degree Distribution\", fontsize=16)  # 标题\n",
    "plt.xlabel(\"Out-Degree\", fontsize=14)  # x轴标签\n",
    "plt.ylabel(\"Frequency\", fontsize=14)  # y轴标签\n",
    "plt.grid(axis=\"y\", linestyle=\"--\", alpha=0.7)  # 网格线\n",
    "plt.show()\n"
   ]
  },
  {
   "cell_type": "code",
   "execution_count": 24,
   "id": "ccc292a5-dd79-470f-9e1c-d8cf5aced813",
   "metadata": {},
   "outputs": [],
   "source": []
  },
  {
   "cell_type": "code",
   "execution_count": null,
   "id": "12f10c5a-3fff-4f61-acfd-b6120b1d0568",
   "metadata": {},
   "outputs": [],
   "source": []
  }
 ],
 "metadata": {
  "kernelspec": {
   "display_name": "Python 3 (ipykernel)",
   "language": "python",
   "name": "python3"
  },
  "language_info": {
   "codemirror_mode": {
    "name": "ipython",
    "version": 3
   },
   "file_extension": ".py",
   "mimetype": "text/x-python",
   "name": "python",
   "nbconvert_exporter": "python",
   "pygments_lexer": "ipython3",
   "version": "3.11.5"
  }
 },
 "nbformat": 4,
 "nbformat_minor": 5
}
